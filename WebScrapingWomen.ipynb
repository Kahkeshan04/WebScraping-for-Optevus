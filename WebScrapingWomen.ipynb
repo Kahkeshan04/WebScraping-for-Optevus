{
 "cells": [
  {
   "cell_type": "code",
   "execution_count": 25,
   "metadata": {},
   "outputs": [],
   "source": [
    "from bs4 import BeautifulSoup\n",
    "import requests\n",
    "import pandas as pd\n",
    "import csv\n",
    "import string\n",
    "import re"
   ]
  },
  {
   "cell_type": "code",
   "execution_count": 32,
   "metadata": {},
   "outputs": [],
   "source": [
    "# Function to clean the text\n",
    "def clean_text(text):\n",
    "    # Remove numbers and special characters except spaces and common punctuation\n",
    "    cleaned_text = re.sub(r'[^a-zA-Z\\s,!?]', '', text)\n",
    "    # Remove content after comma\n",
    "    cleaned_text = cleaned_text.split(',')[0]\n",
    "    # Remove content after full stop\n",
    "    cleaned_text = cleaned_text.split('.')[0]\n",
    "    return cleaned_text.strip()"
   ]
  },
  {
   "cell_type": "code",
   "execution_count": 33,
   "metadata": {},
   "outputs": [],
   "source": [
    "# URL of the Wikipedia page\n",
    "# url = \"https://en.wikipedia.org/wiki/List_of_largest_companies_in_India\"\n",
    "url = \"https://en.wikipedia.org/wiki/List_of_women%27s_organizations\"\n",
    "\n",
    "# Fetch the HTML content of the page\n",
    "page = requests.get(url)\n",
    "\n",
    "# Parse the HTML content using BeautifulSoup\n",
    "soup = BeautifulSoup(page.text, 'html.parser')\n",
    "\n",
    "# Find the second table on the page (index 1, as tables are zero-indexed)\n",
    "div = soup.find('div', class_='mw-content-ltr mw-parser-output')"
   ]
  },
  {
   "cell_type": "code",
   "execution_count": 34,
   "metadata": {},
   "outputs": [
    {
     "name": "stdout",
     "output_type": "stream",
     "text": [
      "Content extracted and saved to women_organizations.csv\n"
     ]
    }
   ],
   "source": [
    "# Open a CSV file in write mode\n",
    "with open('D:\\DA\\Python\\For Optevus\\Women_Org.csv', 'w', newline='', encoding='utf-8') as csvfile:\n",
    "    writer = csv.writer(csvfile)\n",
    "    \n",
    "    # Iterate over each unordered list (ul) within the div\n",
    "    for ul in div.find_all('ul'):\n",
    "        # Iterate over each list item (li) within the unordered list\n",
    "        for li in ul.find_all('li'):\n",
    "            # Extract the text before the dash and clean it\n",
    "            content = li.get_text().split('–')[0].strip()\n",
    "            cleaned_content = clean_text(content)\n",
    "            \n",
    "            # Write the cleaned content to the CSV file\n",
    "            if cleaned_content:\n",
    "                writer.writerow([cleaned_content])\n",
    "\n",
    "print(\"Content extracted and saved to women_organizations.csv\")"
   ]
  }
 ],
 "metadata": {
  "kernelspec": {
   "display_name": "base",
   "language": "python",
   "name": "python3"
  },
  "language_info": {
   "codemirror_mode": {
    "name": "ipython",
    "version": 3
   },
   "file_extension": ".py",
   "mimetype": "text/x-python",
   "name": "python",
   "nbconvert_exporter": "python",
   "pygments_lexer": "ipython3",
   "version": "3.10.13"
  }
 },
 "nbformat": 4,
 "nbformat_minor": 2
}
